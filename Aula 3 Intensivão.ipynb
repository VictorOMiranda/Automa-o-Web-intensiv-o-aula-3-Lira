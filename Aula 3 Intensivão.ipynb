{
 "cells": [
  {
   "cell_type": "code",
   "execution_count": null,
   "id": "62248e98",
   "metadata": {},
   "outputs": [],
   "source": [
    "#Bibliotecas\n",
    "from selenium import webdriver\n",
    "from webdriver_manager.chrome import ChromeDriverManager\n",
    "from selenium.webdriver.chrome.service import Service\n",
    "from selenium.webdriver.common.keys import Keys\n",
    "from selenium.webdriver.common.by import By\n",
    "import pandas as pd"
   ]
  },
  {
   "cell_type": "code",
   "execution_count": null,
   "id": "8707d182",
   "metadata": {},
   "outputs": [],
   "source": [
    "#Passo 1 obter as cotações do dolar, euro e ouro\n",
    "servico = Service(ChromeDriverManager().install())\n",
    "navegador = webdriver.Chrome(service=servico)\n",
    "\n",
    "#Cotação do Dolar\n",
    "navegador.get('https://www.google.com/')\n",
    "navegador.find_element('xpath',\n",
    "                       '/html/body/div[1]/div[3]/form/div[1]/div[1]/div[1]/div/div[2]/input').send_keys(\"cotação dólar\")\n",
    "navegador.find_element('xpath',\n",
    "                       '/html/body/div[1]/div[3]/form/div[1]/div[1]/div[1]/div/div[2]/input').send_keys(Keys.ENTER)\n",
    "cotacao_dolar= navegador.find_element('xpath',\n",
    "                      '//*[@id=\"knowledge-currency__updatable-data-column\"]/div[1]/div[2]/span[1]').get_attribute('data-value')\n",
    "#Cotação do Euro\n",
    "navegador.get('https://www.google.com/')\n",
    "navegador.find_element('xpath',\n",
    "                       '/html/body/div[1]/div[3]/form/div[1]/div[1]/div[1]/div/div[2]/input').send_keys(\"cotação euro\")\n",
    "navegador.find_element('xpath',\n",
    "                       '/html/body/div[1]/div[3]/form/div[1]/div[1]/div[1]/div/div[2]/input').send_keys(Keys.ENTER)\n",
    "cotacao_euro= navegador.find_element('xpath',\n",
    "                      '//*[@id=\"knowledge-currency__updatable-data-column\"]/div[1]/div[2]/span[1]').get_attribute('data-value')\n",
    "\n",
    "\n",
    "#Cotação do Ouro\n",
    "\n",
    "navegador.get('https://www.melhorcambio.com/ouro-hoje')\n",
    "cotacao_ouro= navegador.find_element('xpath',\n",
    "                      '//*[@id=\"comercial\"]').get_attribute('value')\n",
    "\n",
    "cotacao_ouro= cotacao_ouro.replace(\",\",\".\")\n",
    "navegador.quit()\n",
    "\n",
    "print('A cotação do Dolar é',cotacao_dolar)\n",
    "print('A cotação do Euro é', cotacao_euro)\n",
    "print('A cotação do Ouro é', cotacao_ouro)\n"
   ]
  },
  {
   "cell_type": "code",
   "execution_count": null,
   "id": "5bf160e7",
   "metadata": {},
   "outputs": [],
   "source": [
    "#Atualizando a base de dados\n",
    "\n",
    "tabela = pd.read_excel('Produtos.xlsx')\n",
    "print(tabela)"
   ]
  },
  {
   "cell_type": "code",
   "execution_count": null,
   "id": "44dbdc52",
   "metadata": {},
   "outputs": [],
   "source": [
    "tabela.loc[tabela[\"Moeda\"]==\"Dólar\", \"Cotação\"]= float(cotacao_dolar)\n",
    "tabela.loc[tabela['Moeda']=='Euro', 'Cotação']= float(cotacao_euro)\n",
    "tabela.loc[tabela['Moeda']=='Ouro', 'Cotação']= float(cotacao_ouro)\n",
    "\n",
    "#atualizando o preço de compra = preço original x cotação\n",
    "\n",
    "tabela['Preço de Compra'] = tabela['Preço Original']* tabela['Cotação']\n",
    "\n",
    "#atualizando o preço de venda = preço de compra * margem\n",
    "\n",
    "tabela['Preço de Venda'] = tabela['Preço de Compra']* tabela['Margem']\n",
    "\n",
    "display(tabela)\n",
    "\n"
   ]
  },
  {
   "cell_type": "code",
   "execution_count": null,
   "id": "c03bcf94",
   "metadata": {},
   "outputs": [],
   "source": [
    "#Exportando a tabela final com a alteração das cotações \n",
    "\n",
    "tabela.to_excel(\"Produtos corrigido.xlsx\")"
   ]
  },
  {
   "cell_type": "code",
   "execution_count": null,
   "id": "7bc7d0cd",
   "metadata": {},
   "outputs": [],
   "source": []
  }
 ],
 "metadata": {
  "kernelspec": {
   "display_name": "Python 3 (ipykernel)",
   "language": "python",
   "name": "python3"
  },
  "language_info": {
   "codemirror_mode": {
    "name": "ipython",
    "version": 3
   },
   "file_extension": ".py",
   "mimetype": "text/x-python",
   "name": "python",
   "nbconvert_exporter": "python",
   "pygments_lexer": "ipython3",
   "version": "3.9.12"
  }
 },
 "nbformat": 4,
 "nbformat_minor": 5
}
